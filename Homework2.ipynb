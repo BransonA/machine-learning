{
 "cells": [
  {
   "cell_type": "code",
   "execution_count": 41,
   "id": "46af74e2",
   "metadata": {},
   "outputs": [],
   "source": [
    "import matplotlib.pyplot as plt\n",
    "import numpy as np\n",
    "import pandas as pd\n",
    "import seaborn as sns\n",
    "from sklearn import metrics\n",
    "from sklearn.linear_model import LogisticRegression\n",
    "from sklearn.metrics import confusion_matrix\n",
    "from sklearn.model_selection import train_test_split, KFold, cross_validate\n",
    "from sklearn.naive_bayes import GaussianNB\n",
    "from sklearn.preprocessing import MinMaxScaler, StandardScaler"
   ]
  },
  {
   "cell_type": "code",
   "execution_count": 45,
   "id": "23dc6c27",
   "metadata": {},
   "outputs": [
    {
     "name": "stdout",
     "output_type": "stream",
     "text": [
      "Precision: 0.8\n",
      "Recall: 0.5957446808510638\n",
      "Accuracy: 0.8311688311688312\n",
      "\n",
      "\n",
      "Confusion Matrix\n",
      "[[100   7]\n",
      " [ 19  28]]\n"
     ]
    }
   ],
   "source": [
    "# Problem 1\n",
    "# Reads diabetes file for data\n",
    "df = pd.read_csv('C:/Users/brans/Downloads/diabetes.csv')\n",
    "x = df.values[:, :7]\n",
    "y = df.values[:, 8]\n",
    "\n",
    "# Standardization\n",
    "ss = StandardScaler()\n",
    "x = ss.fit_transform(x)\n",
    "mms = MinMaxScaler()\n",
    "x = mms.fit_transform(x)\n",
    "\n",
    "\n",
    "# 80 and 20 split\n",
    "np.random.seed(0)\n",
    "x_train, x_test, y_train, y_test = train_test_split(x, y, train_size=0.8,\n",
    "                                                    test_size=0.2,\n",
    "                                                    random_state=np.random)\n",
    "\n",
    "# Regression\n",
    "lr = LogisticRegression()\n",
    "lr.fit(x_train, y_train)\n",
    "y_pred = lr.predict(x_test)\n",
    "print('Precision:', metrics.precision_score(y_test, y_pred))\n",
    "print('Recall:', metrics.recall_score(y_test, y_pred))\n",
    "print('Accuracy:', metrics.accuracy_score(y_test, y_pred))\n",
    "print('\\n')\n",
    "cnf_matrix = confusion_matrix(y_test, y_pred)\n",
    "print('Confusion Matrix')\n",
    "print(cnf_matrix)"
   ]
  },
  {
   "cell_type": "code",
   "execution_count": 46,
   "id": "b736b447",
   "metadata": {},
   "outputs": [
    {
     "name": "stdout",
     "output_type": "stream",
     "text": [
      "Precision: 0.6829268292682927\n",
      "Recall: 0.5957446808510638\n",
      "Accuracy: 0.7922077922077922\n",
      "\n",
      "\n",
      "Confusion Matrix\n",
      "[[94 13]\n",
      " [19 28]]\n"
     ]
    }
   ],
   "source": [
    "# Problem 2\n",
    "# Gaussian Naive Bays model\n",
    "gnb = GaussianNB()\n",
    "gnb.fit(x_train, y_train)\n",
    "y_pred = gnb.predict(x_test)\n",
    "\n",
    "# Precision, Recall, Accuracy\n",
    "print('Precision:', metrics.precision_score(y_test, y_pred))\n",
    "print('Recall:', metrics.recall_score(y_test, y_pred))\n",
    "print('Accuracy:', metrics.accuracy_score(y_test, y_pred))\n",
    "print('\\n')\n",
    "cnf_matrix = confusion_matrix(y_test, y_pred)\n",
    "print('Confusion Matrix')\n",
    "print(cnf_matrix)"
   ]
  },
  {
   "cell_type": "code",
   "execution_count": 34,
   "id": "d8cc787d",
   "metadata": {},
   "outputs": [
    {
     "name": "stdout",
     "output_type": "stream",
     "text": [
      "Precision: 0.775323132227157\n",
      "Recall: 0.5124971820632198\n",
      "Accuracy:  0.777361853832442\n",
      "\n",
      "\n",
      "Precision: 0.7427290946889816\n",
      "Recall: 0.512147494628754\n",
      "Accuracy: 0.7707792207792208\n"
     ]
    }
   ],
   "source": [
    "# Problem 3\n",
    "# K = 5 folds\n",
    "metrics = ['accuracy', 'precision', 'recall']\n",
    "kf5 = KFold(n_splits=5, random_state=1, shuffle=True)\n",
    "scores = cross_validate(lr, x, y, scoring=metrics, cv=kf5, n_jobs=-1)\n",
    "print('Precision:', scores['test_precision'].mean())\n",
    "print('Recall:', scores['test_recall'].mean())\n",
    "print('Accuracy: ', scores['test_accuracy'].mean())\n",
    "print('\\n')\n",
    "\n",
    "# K = 10 folds\n",
    "kf10 = KFold(n_splits=10, random_state=1, shuffle=True)\n",
    "scores = cross_validate(lr, x, y, scoring=metrics, cv=kf10, n_jobs=-1)\n",
    "print('Precision:', scores['test_precision'].mean())\n",
    "print('Recall:', scores['test_recall'].mean())\n",
    "print('Accuracy:', scores['test_accuracy'].mean())\n"
   ]
  },
  {
   "cell_type": "code",
   "execution_count": 39,
   "id": "f3f1db0f",
   "metadata": {},
   "outputs": [
    {
     "name": "stdout",
     "output_type": "stream",
     "text": [
      "Precision: 0.6819369457759837\n",
      "Recall: 0.5828957227259114\n",
      "Accuracy: 0.759137594431712\n",
      "\n",
      "\n",
      "Precision: 0.6863522347218\n",
      "Recall: 0.5936918506558686\n",
      "Accuracy: 0.7655673274094327\n"
     ]
    }
   ],
   "source": [
    "# Problem 4\n",
    "# K = 5 folds\n",
    "scores = cross_validate(gnb, x, y, scoring=metrics, cv=kf5, n_jobs=-1)\n",
    "print('Precision:', scores['test_precision'].mean())\n",
    "print('Recall:', scores['test_recall'].mean())\n",
    "print('Accuracy:', scores['test_accuracy'].mean())\n",
    "print('\\n')\n",
    "\n",
    "# K = 10 folds\n",
    "scores = cross_validate(gnb, x, y, scoring=metrics, cv=kf10, n_jobs=-1)\n",
    "print('Precision:', scores['test_precision'].mean())\n",
    "print('Recall:', scores['test_recall'].mean())\n",
    "print('Accuracy:', scores['test_accuracy'].mean())"
   ]
  },
  {
   "cell_type": "code",
   "execution_count": null,
   "id": "8d53db2b",
   "metadata": {},
   "outputs": [],
   "source": []
  }
 ],
 "metadata": {
  "kernelspec": {
   "display_name": "Python 3",
   "language": "python",
   "name": "python3"
  },
  "language_info": {
   "codemirror_mode": {
    "name": "ipython",
    "version": 3
   },
   "file_extension": ".py",
   "mimetype": "text/x-python",
   "name": "python",
   "nbconvert_exporter": "python",
   "pygments_lexer": "ipython3",
   "version": "3.8.8"
  }
 },
 "nbformat": 4,
 "nbformat_minor": 5
}
