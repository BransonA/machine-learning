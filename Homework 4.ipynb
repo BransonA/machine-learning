{
 "cells": [
  {
   "cell_type": "code",
   "execution_count": null,
   "id": "ac6f27a2",
   "metadata": {},
   "outputs": [],
   "source": [
    "import numpy as np \n",
    "import matplotlib.pyplot as plt \n",
    "import pandas as pd\n",
    "import seaborn as sns \n",
    "import warnings \n",
    "from sklearn.datasets import load_breast_cancer\n",
    "from sklearn.model_selection import train_test_split\n",
    "from sklearn.preprocessing import StandardScaler \n",
    "from sklearn.linear_model import LogisticRegression\n",
    "from sklearn import metrics\n",
    "from sklearn.metrics import confusion_matrix\n",
    "from sklearn.decomposition import PCA \n",
    "from sklearn.svm import SVR \n",
    "from sklearn.svm import SVC "
   ]
  },
  {
   "cell_type": "code",
   "execution_count": null,
   "id": "1add79cf",
   "metadata": {},
   "outputs": [],
   "source": [
    "# Importing Breast Cancer Data Set\n",
    "breast = load_breast_cancer()\n",
    "breast_data = breast.data\n",
    "breast_input = pd.DataFrame(breast_data)\n",
    "breast_labels = breast.target\n",
    "labels = np.reshape(breast_labels,(569,1))\n",
    "final_breast_data = np.concatenate([breast_data,labels],axis=1)\n",
    "final_breast_data.shape\n",
    "breast_dataset = pd.DataFrame(final_breast_data)\n",
    "features_labels = np.append(features,'label')\n",
    "features = breast.feature_names\n",
    "breast_dataset.columns = features_labels\n",
    "\n",
    "# Scaling and Standardization\n",
    "Y = breast_dataset.iloc[:, 30].values \n",
    "X = breast_dataset.iloc[:,:30].values \n",
    "sc_X = StandardScaler() \n",
    "std_X = sc_X.fit_transform(X)"
   ]
  },
  {
   "cell_type": "code",
   "execution_count": null,
   "id": "21d98b78",
   "metadata": {},
   "outputs": [],
   "source": [
    "# Problem 1\n",
    "# PCA\n",
    "precision = []\n",
    "accuracy = []\n",
    "recall = []\n",
    "for i in range(50):\n",
    "    print(i+1)\n",
    "    pca = PCA(n_components=i+1)\n",
    "    principalcom = pca.fit_transform(std_X)\n",
    "    principalDf = pd.DataFrame(data = principalcom)\n",
    "    X_training, X_testing, Y_training, Y_testing = train_test_split(principalDf, Y, test_size = 0.20, random_state=0)\n",
    "    model = SVC(kernel='linear', C=1E6) \n",
    "    model.fit(X_training, Y_training) \n",
    "    Y_prediction = model.predict(X_testing)\n",
    "\n",
    "    precision.append(metrics.precision_score(Y_testing, Y_prediction))\n",
    "    accuracy.append(metrics.accuracy_score(Y_testing, Y_prediction))\n",
    "    recall.append(metrics.recall_score(Y_testing, Y_prediction))"
   ]
  },
  {
   "cell_type": "code",
   "execution_count": null,
   "id": "c318f956",
   "metadata": {},
   "outputs": [],
   "source": [
    "# Accuracy, Precision, and Recall over Iterations\n",
    "\n",
    "plt.figure(1)\n",
    "plt.plot(range(50),precision)\n",
    "plt.xlabel('Iterations')\n",
    "plt.ylabel('Precision')\n",
    "plt.title('Precision over Iterations')\n",
    "plt.rcParams['figure.figsize'] = (10, 5)\n",
    "plt.show()\n",
    "\n",
    "plt.figure(2)\n",
    "plt.plot(range(50),accuracy)\n",
    "plt.xlabel('Iterations')\n",
    "plt.ylabel('Accuracy')\n",
    "plt.title('Accuracy over Iterations')\n",
    "plt.rcParams['figure.figsize'] = (10, 5)\n",
    "plt.show()\n",
    "\n",
    "plt.figure(3)\n",
    "plt.plot(range(50),recall)\n",
    "plt.xlabel('Iterations')\n",
    "plt.ylabel('Recall')\n",
    "plt.title('REcall over Iterations')\n",
    "plt.rcParams['figure.figsize'] = (10, 5)\n",
    "plt.show()"
   ]
  },
  {
   "cell_type": "code",
   "execution_count": null,
   "id": "218df26a",
   "metadata": {},
   "outputs": [],
   "source": []
  }
 ],
 "metadata": {
  "kernelspec": {
   "display_name": "Python 3",
   "language": "python",
   "name": "python3"
  },
  "language_info": {
   "codemirror_mode": {
    "name": "ipython",
    "version": 3
   },
   "file_extension": ".py",
   "mimetype": "text/x-python",
   "name": "python",
   "nbconvert_exporter": "python",
   "pygments_lexer": "ipython3",
   "version": "3.8.8"
  }
 },
 "nbformat": 4,
 "nbformat_minor": 5
}
